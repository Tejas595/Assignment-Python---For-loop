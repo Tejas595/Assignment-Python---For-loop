{
 "cells": [
  {
   "cell_type": "markdown",
   "id": "a157a379-5857-406a-ba14-b3e21952c46b",
   "metadata": {},
   "source": [
    "for loop assignment \n"
   ]
  },
  {
   "cell_type": "markdown",
   "id": "abea3c93-1d00-4b52-98b6-758f64b882f7",
   "metadata": {},
   "source": [
    "basic level"
   ]
  },
  {
   "cell_type": "code",
   "execution_count": 1,
   "id": "b4edbd5d-9384-4d2f-ab95-74f35c2de232",
   "metadata": {},
   "outputs": [
    {
     "name": "stdout",
     "output_type": "stream",
     "text": [
      "1\n",
      "2\n",
      "3\n",
      "4\n",
      "5\n",
      "6\n",
      "7\n",
      "8\n",
      "9\n",
      "10\n"
     ]
    }
   ],
   "source": [
    "# 1. Write a Python program to print the numbers from 1 to 10 using a `for` loop.\n",
    "\n",
    "for num in range(1,11):\n",
    "    print(num)"
   ]
  },
  {
   "cell_type": "code",
   "execution_count": 2,
   "id": "975cdedd-b59b-401c-b46a-3e2c9b47297a",
   "metadata": {},
   "outputs": [
    {
     "name": "stdout",
     "output_type": "stream",
     "text": [
      "278\n"
     ]
    }
   ],
   "source": [
    "# 2. Create a program that calculates the sum of all numbers in a list using a `for` loop.\n",
    "\n",
    "def listsum (list_num):\n",
    "    \"\"\"calculating the sum of all numbers in a list using a for loop.\"\"\"\n",
    "    total=0\n",
    "    for i in list_num:  \n",
    "        total=total+i\n",
    "    return total\n",
    "\n",
    "list_num=[10,20,56,52,23,32,15,62,8]\n",
    "print(listsum(list_num))"
   ]
  },
  {
   "cell_type": "code",
   "execution_count": 3,
   "id": "ca53dda0-ffe6-4190-9b03-74186c4d0650",
   "metadata": {},
   "outputs": [
    {
     "name": "stdin",
     "output_type": "stream",
     "text": [
      "enter the string =>  invincible\n"
     ]
    },
    {
     "name": "stdout",
     "output_type": "stream",
     "text": [
      "elbicnivni\n"
     ]
    }
   ],
   "source": [
    "# 3. Write a program to print the characters of a string in reverse order using a `for` loop.\n",
    "\n",
    "def reverse_string(string):\n",
    "    \"\"\"reverseing the string using string slicing\"\"\"\n",
    "    for rev in string:\n",
    "        rev=string[::-1]\n",
    "        return rev\n",
    "string=input(\"enter the string => \")\n",
    "print(reverse_string(string))"
   ]
  },
  {
   "cell_type": "code",
   "execution_count": 4,
   "id": "8109c84a-1e45-4897-904f-7ed2f51e3d39",
   "metadata": {},
   "outputs": [
    {
     "name": "stdin",
     "output_type": "stream",
     "text": [
      "enter the number to get factorial => 5\n"
     ]
    },
    {
     "name": "stdout",
     "output_type": "stream",
     "text": [
      "120\n"
     ]
    }
   ],
   "source": [
    "# 4. Develop a program that finds the factorial of a given number using a `for` loop.\n",
    "\n",
    "def factorial(n):\n",
    "    \"\"\"finding the factorial of a given number\"\"\"\n",
    "    if n < 0:\n",
    "        return \"Factorial is not defined for negative numbers\"\n",
    "    result = 1\n",
    "    for i in range(1, n + 1):\n",
    "        result *= i\n",
    "    return result\n",
    "n=int(input(\"enter the number to get factorial =>\"))\n",
    "print(factorial(n))"
   ]
  },
  {
   "cell_type": "code",
   "execution_count": 5,
   "id": "9dd81257-aa75-4e61-8e9f-4aedb0554c66",
   "metadata": {},
   "outputs": [
    {
     "name": "stdin",
     "output_type": "stream",
     "text": [
      "enter the number to get table=>  19\n"
     ]
    },
    {
     "name": "stdout",
     "output_type": "stream",
     "text": [
      " 19 x 1 = 19\n",
      " 19 x 2 = 38\n",
      " 19 x 3 = 57\n",
      " 19 x 4 = 76\n",
      " 19 x 5 = 95\n",
      " 19 x 6 = 114\n",
      " 19 x 7 = 133\n",
      " 19 x 8 = 152\n",
      " 19 x 9 = 171\n",
      " 19 x 10 = 190\n"
     ]
    }
   ],
   "source": [
    "# 5. Create a program to print the multiplication table of a given number using a `for` loop.\n",
    "\n",
    "def table ():\n",
    "    \"\"\"creating table of number using for loop\"\"\"\n",
    "    number=int(input(\"enter the number to get table=> \"))\n",
    "    for i in range(1,11):\n",
    "        total= i*number\n",
    "        print( f\" {number} x {i} = {total}\")\n",
    "table()"
   ]
  },
  {
   "cell_type": "code",
   "execution_count": 6,
   "id": "b6b88645-5eef-411e-b82f-1d74fc4c46cc",
   "metadata": {},
   "outputs": [
    {
     "name": "stdout",
     "output_type": "stream",
     "text": [
      "even and odd numbers are (6, 5)\n"
     ]
    }
   ],
   "source": [
    "# 6. Write a program that counts the number of even and odd numbers in a list using a `for` loop.\n",
    "\n",
    "def count_even_odd(numbers):\n",
    "    \"\"\"counts the number of even and odd numbers in a list using a for loop \"\"\"\n",
    "    count_even=0\n",
    "    count_odd=0\n",
    "    for i in numbers :\n",
    "        if i%2==0:\n",
    "            count_even=count_even+1\n",
    "        else:\n",
    "            count_odd=count_odd+1\n",
    "    return count_even,count_odd\n",
    "    \n",
    "numbers=[1,2,3,4,5,6,4,5,26,31,20]\n",
    "print(\"even and odd numbers are\",count_even_odd(numbers))"
   ]
  },
  {
   "cell_type": "code",
   "execution_count": 7,
   "id": "dafff0af-3209-49d7-a6d4-dd09afc506dd",
   "metadata": {},
   "outputs": [
    {
     "name": "stdout",
     "output_type": "stream",
     "text": [
      "square of 1 is 1\n",
      "square of 2 is 4\n",
      "square of 3 is 9\n",
      "square of 4 is 16\n",
      "square of 5 is 25\n"
     ]
    }
   ],
   "source": [
    "# 7. Develop a program that prints the squares of numbers from 1 to 5 using a `for` loop.\n",
    "\n",
    "def square1():\n",
    "    j=0\n",
    "    for i in range(1,6):\n",
    "        j=j+1\n",
    "        i=i*i\n",
    "        print(\"square of\",j,\"is\",i)\n",
    "square1()"
   ]
  },
  {
   "cell_type": "code",
   "execution_count": 8,
   "id": "c6ceb455-03b1-4d8b-b648-1a2d9390d920",
   "metadata": {},
   "outputs": [
    {
     "name": "stdout",
     "output_type": "stream",
     "text": [
      "10\n"
     ]
    }
   ],
   "source": [
    "# 8. Create a program to find the length of a string without using the `len()` function.\n",
    "\n",
    "def counting(string):\n",
    "    \"\"\" calculating the length of string\"\"\"\n",
    "\n",
    "    count_string=0\n",
    "    for i in string:\n",
    "        count_string=count_string+1\n",
    "    return count_string\n",
    "string=\"invincible\"\n",
    "print(counting(string))"
   ]
  },
  {
   "cell_type": "code",
   "execution_count": 1,
   "id": "d73d4952-4710-4ad9-8c9a-b00be298e985",
   "metadata": {},
   "outputs": [
    {
     "name": "stdout",
     "output_type": "stream",
     "text": [
      "4.5\n"
     ]
    }
   ],
   "source": [
    "# # 9. Write a program that calculates the average of a list of numbers using a `for` loop.\n",
    "\n",
    "\n",
    "def average_list(list_num):\n",
    "    \"\"\" calculating  the average of a list of numbers using a for loop. \"\"\"\n",
    "    count=0\n",
    "    for i in list_num:\n",
    "        count=count+i\n",
    "        total_nos=len(list(list_num))\n",
    "    print(count/total_nos)\n",
    "list_num=[1,2,3,4,5,6,7,8]   \n",
    "average_list(list_num)"
   ]
  },
  {
   "cell_type": "code",
   "execution_count": 3,
   "id": "cbcb5127-4098-4ba3-996e-65b16fa5815a",
   "metadata": {},
   "outputs": [
    {
     "name": "stdin",
     "output_type": "stream",
     "text": [
      "enter the number to get first fibonacci numbers =>  10\n"
     ]
    },
    {
     "name": "stdout",
     "output_type": "stream",
     "text": [
      "0 1 1 2 3 5 8 13 21 34 "
     ]
    }
   ],
   "source": [
    "# 10. Develop a program that prints the first `n` Fibonacci numbers using a `for` loop.\n",
    "\n",
    "def fibonacci(n):\n",
    "    \"\"\" first n Fibonacci numbers using a `for` loop \"\"\"\n",
    "    if n<=0: \n",
    "        return n\n",
    "    a,b=0,1\n",
    "    for i in range(n):\n",
    "        print(a,end=' ')\n",
    "        a,b=b,a+b\n",
    "n=int(input(\"enter the number to get first fibonacci numbers => \"))\n",
    "fibonacci(n)"
   ]
  },
  {
   "cell_type": "code",
   "execution_count": null,
   "id": "ed13ff62-485c-42d7-bcb4-4d6932a66d40",
   "metadata": {},
   "outputs": [],
   "source": []
  },
  {
   "cell_type": "markdown",
   "id": "22f30eb8-cefc-4ad9-9135-03ef23c333ee",
   "metadata": {},
   "source": [
    " Intermediate Level"
   ]
  },
  {
   "cell_type": "code",
   "execution_count": 1,
   "id": "01b78246-d26d-405d-a645-e077b087b8cb",
   "metadata": {},
   "outputs": [
    {
     "name": "stdout",
     "output_type": "stream",
     "text": [
      "[1, 2, 3, 5, 12]\n"
     ]
    }
   ],
   "source": [
    "# 11. Write a program to check if a given list contains any duplicates using a `for` loop.\n",
    "\n",
    "\n",
    "def duplicate(list11):\n",
    "    \"\"\" checking duplicates using a for loop.\"\"\"\n",
    "    unique_list=[]\n",
    "    duplicate_list=[]\n",
    "    for i in list11:\n",
    "        if i not in unique_list:\n",
    "            unique_list.append(i)\n",
    "        elif i not in duplicate_list:\n",
    "            duplicate_list.append(i)\n",
    "    return duplicate_list\n",
    "list11=[1,2,3,4,5,1,2,3,5,10,12,12]\n",
    "print(duplicate(list11))"
   ]
  },
  {
   "cell_type": "code",
   "execution_count": 7,
   "id": "8ed23426-132a-434b-8bcd-f49c7900bf7d",
   "metadata": {},
   "outputs": [
    {
     "name": "stdin",
     "output_type": "stream",
     "text": [
      "enter the starting point =>  5\n",
      "enter the end point =>  20\n"
     ]
    },
    {
     "name": "stdout",
     "output_type": "stream",
     "text": [
      "5 , 7 , 11 , 13 , 17 , 19 , "
     ]
    }
   ],
   "source": [
    "# 12. Create a program that prints the prime numbers in a given range using a for loop.\n",
    "\n",
    "def prime (start,end):\n",
    "    \"\"\"prime numbers in a given range using a for loop\"\"\"\n",
    "    for num in range(start,end+1):\n",
    "        if num >1:\n",
    "            is_prime=True\n",
    "            for i in range(2,num):\n",
    "                if num %i==0:\n",
    "                    is_prime=False\n",
    "                    break\n",
    "            if is_prime:\n",
    "                print(num,end=\" , \")\n",
    "start=int(input(\"enter the starting point => \"))\n",
    "end=int(input(\"enter the end point => \"))\n",
    "prime(start,end)"
   ]
  },
  {
   "cell_type": "code",
   "execution_count": 8,
   "id": "f1aed0ac-d7dc-4214-b4f3-d4af956cc8ca",
   "metadata": {},
   "outputs": [
    {
     "name": "stdin",
     "output_type": "stream",
     "text": [
      "enter the string  Tejas Patil\n"
     ]
    },
    {
     "name": "stdout",
     "output_type": "stream",
     "text": [
      "vowels in string =>4\n"
     ]
    }
   ],
   "source": [
    "# 13. Develop a program that counts the number of vowels in a string using a `for` loop.\n",
    "\n",
    "def count(string13):\n",
    "    \"\"\" counts the number of vowels in a string using a for  loop\"\"\"\n",
    "    vowel_string=0\n",
    "    for i in string13:\n",
    "        string13.lower()\n",
    "        if i == \"a\"or i== \"e\" or i== \"i\" or i== \"o\" or i== \"u\":\n",
    "            vowel_string +=1\n",
    "    return f\"vowels in string =>{vowel_string}\"\n",
    "\n",
    "string13=input(\"enter the string \")\n",
    "print(count(string13))\n",
    "   "
   ]
  },
  {
   "cell_type": "code",
   "execution_count": 9,
   "id": "c01316b5-8a87-452e-94b9-b72170cb6fcb",
   "metadata": {},
   "outputs": [
    {
     "name": "stdout",
     "output_type": "stream",
     "text": [
      "maximum number in list is 333\n"
     ]
    }
   ],
   "source": [
    "# 14. Write a program to find the maximum element in a 2D list using a nested `for` loop.\n",
    "\n",
    "def find_max(two_d_list):\n",
    "    \"\"\" maximum element in a 2D list using a nested for loop\"\"\"\n",
    "    max_element=0\n",
    "    for row in two_d_list:\n",
    "        for element in row:\n",
    "            if element >max_element:\n",
    "                max_element=element\n",
    "    return max_element\n",
    "two_d_list=[[1,5,6],\n",
    "    [12,15,25],\n",
    "    [1,333,40]]\n",
    "print(\"maximum number in list is\",find_max(two_d_list))"
   ]
  },
  {
   "cell_type": "code",
   "execution_count": 10,
   "id": "343bb2fc-75f1-44b6-87c2-2ac6ac20d89a",
   "metadata": {},
   "outputs": [
    {
     "name": "stdout",
     "output_type": "stream",
     "text": [
      "the new list after removing elements are [2, 3, 2, 5, 2, 23, 562, 5, 25, 8, 2]\n"
     ]
    }
   ],
   "source": [
    "# 15. Create a program that removes all occurrences of a specific element from a list using a `for` loop.\n",
    "\n",
    "def remove_element_list(all_elements,remove_element):\n",
    "    \"\"\" removing all occurrences of a specific element (1) from a list using a for loop\"\"\"\n",
    "    result_list=[]\n",
    "    for element in all_elements:\n",
    "        if element!=remove_element:\n",
    "            result_list.append(element)\n",
    "    return result_list\n",
    "\n",
    "all_elements=[1,2,3,1,2,5,1,2,1,1,23,562,5,25,1,1,8,2]\n",
    "remove_element=1\n",
    "print(\"the new list after removing elements are\",remove_element_list(all_elements,remove_element))"
   ]
  },
  {
   "cell_type": "code",
   "execution_count": 11,
   "id": "6a1a7a99-5fc3-4800-8868-dfc7d2fac0a4",
   "metadata": {},
   "outputs": [
    {
     "name": "stdout",
     "output_type": "stream",
     "text": [
      "1 x 1 = 1\n",
      "1 x 2 = 2\n",
      "1 x 3 = 3\n",
      "1 x 4 = 4\n",
      "1 x 5 = 5\n",
      "1 x 6 = 6\n",
      "1 x 7 = 7\n",
      "1 x 8 = 8\n",
      "1 x 9 = 9\n",
      "1 x 10 = 10\n",
      "\n",
      "2 x 1 = 2\n",
      "2 x 2 = 4\n",
      "2 x 3 = 6\n",
      "2 x 4 = 8\n",
      "2 x 5 = 10\n",
      "2 x 6 = 12\n",
      "2 x 7 = 14\n",
      "2 x 8 = 16\n",
      "2 x 9 = 18\n",
      "2 x 10 = 20\n",
      "\n",
      "3 x 1 = 3\n",
      "3 x 2 = 6\n",
      "3 x 3 = 9\n",
      "3 x 4 = 12\n",
      "3 x 5 = 15\n",
      "3 x 6 = 18\n",
      "3 x 7 = 21\n",
      "3 x 8 = 24\n",
      "3 x 9 = 27\n",
      "3 x 10 = 30\n",
      "\n",
      "4 x 1 = 4\n",
      "4 x 2 = 8\n",
      "4 x 3 = 12\n",
      "4 x 4 = 16\n",
      "4 x 5 = 20\n",
      "4 x 6 = 24\n",
      "4 x 7 = 28\n",
      "4 x 8 = 32\n",
      "4 x 9 = 36\n",
      "4 x 10 = 40\n",
      "\n",
      "5 x 1 = 5\n",
      "5 x 2 = 10\n",
      "5 x 3 = 15\n",
      "5 x 4 = 20\n",
      "5 x 5 = 25\n",
      "5 x 6 = 30\n",
      "5 x 7 = 35\n",
      "5 x 8 = 40\n",
      "5 x 9 = 45\n",
      "5 x 10 = 50\n",
      "\n"
     ]
    }
   ],
   "source": [
    "# 16. Develop a program that generates a multiplication table for numbers from 1 to 5 using a nested `for` loop.\n",
    "\n",
    "def multiply ():\n",
    "    \"\"\" table from 1 to 5\"\"\"\n",
    "    for i in range(1,6):\n",
    "        for j in range(1,11):\n",
    "            print(f\"{i} x {j} =\",i*j)\n",
    "        print()\n",
    "multiply()"
   ]
  },
  {
   "cell_type": "code",
   "execution_count": 12,
   "id": "b267a634-77bf-4c3f-bd79-bd0b7a2ccebd",
   "metadata": {},
   "outputs": [
    {
     "name": "stdout",
     "output_type": "stream",
     "text": [
      "[0.0, -3.888888888888889, 13.333333333333334]\n"
     ]
    }
   ],
   "source": [
    "# 17. Write a program that converts a list of Fahrenheit temperatures to Celsius using a `for` loop.\n",
    "\n",
    "\n",
    "def faheren_to_celsius(n):\n",
    "    \"\"\" Fahrenheit temperatures to Celsius using a for loop \"\"\"\n",
    "    k=[]\n",
    "    for i in n:\n",
    "        i=(i-32)*5/9\n",
    "        k.append(i)\n",
    "    return k\n",
    "n=[32,25,56]\n",
    "print(faheren_to_celsius(n))"
   ]
  },
  {
   "cell_type": "code",
   "execution_count": 13,
   "id": "d76c5d9e-4406-451d-8303-6a6d3e5e8d99",
   "metadata": {},
   "outputs": [
    {
     "name": "stdout",
     "output_type": "stream",
     "text": [
      "('common elements are', [1, 2, 3, 8, 56])\n"
     ]
    }
   ],
   "source": [
    "# # 18. Create a program to print the common elements from two lists using a `for` loop.\n",
    "\n",
    "\n",
    "def find_common(list1,list2):\n",
    "    \"\"\" common elements from two lists using a for loop.\"\"\"\n",
    "    common_elements=[]\n",
    "\n",
    "    for i in list1:\n",
    "        if i in list2:\n",
    "            common_elements.append(i)\n",
    "    return \"common elements are\",common_elements\n",
    "list1=[1,2,3,5,8,9,4,56]\n",
    "list2=[35,26,25,2,3,56,1,52,8]\n",
    "print(find_common(list1,list2))"
   ]
  },
  {
   "cell_type": "code",
   "execution_count": 14,
   "id": "320fce37-bf87-425c-aed0-3dc49ce8d991",
   "metadata": {},
   "outputs": [
    {
     "name": "stdout",
     "output_type": "stream",
     "text": [
      "* \n",
      "* * \n",
      "* * * \n",
      "* * * * \n",
      "* * * * * \n"
     ]
    }
   ],
   "source": [
    "# 19. Develop a program that prints the pattern of right-angled triangles using a `for` loop. Use ‘*’ to draw the pattern\n",
    "\n",
    "def patterned_right_angle():\n",
    "    \"\"\" right-angled triangles using a for loop in \"*\"  pattern \"\"\"\n",
    "\n",
    "    for i in range(1,6):\n",
    "        for j in range(1,i+1):\n",
    "            print(\"*\",end=\" \")\n",
    "        print()\n",
    "patterned_right_angle()"
   ]
  },
  {
   "cell_type": "code",
   "execution_count": 16,
   "id": "e1cbee39-33db-436f-8384-db0946847add",
   "metadata": {},
   "outputs": [
    {
     "name": "stdin",
     "output_type": "stream",
     "text": [
      "enter the first number => 20\n",
      "enter the second number => 100\n"
     ]
    },
    {
     "name": "stdout",
     "output_type": "stream",
     "text": [
      "the gcd of  20 and 100 is  20\n"
     ]
    }
   ],
   "source": [
    "# # 20. Write a program to find the greatest common divisor (GCD) of two numbers using a `for` loop.\n",
    "\n",
    "\n",
    "def findgcd(number1,number2):\n",
    "    \"\"\"  finding the greatest common divisor (GCD) \"\"\"\n",
    "    smaller=min(number1,number2)\n",
    "    gcd=1\n",
    "    for i in range(1,smaller+1):\n",
    "        if (number1 % i==0)and (number2 % i==0):\n",
    "            gcd=i\n",
    "    return gcd\n",
    "number1=int(input(\"enter the first number =>\"))\n",
    "number2=int(input(\"enter the second number =>\"))\n",
    "print(\"the gcd of \",number1,\"and\", number2,\"is \",findgcd(number1,number2))"
   ]
  },
  {
   "cell_type": "code",
   "execution_count": null,
   "id": "fab1e606-b787-49bb-8d5d-779a308cd307",
   "metadata": {},
   "outputs": [],
   "source": []
  },
  {
   "cell_type": "markdown",
   "id": "9cd4bdb9-e5a8-4eae-ac64-110bdad731fa",
   "metadata": {},
   "source": [
    "Advanced level"
   ]
  },
  {
   "cell_type": "code",
   "execution_count": 17,
   "id": "5b15e239-854f-477f-9308-47de502a3651",
   "metadata": {},
   "outputs": [
    {
     "name": "stdout",
     "output_type": "stream",
     "text": [
      "160\n"
     ]
    }
   ],
   "source": [
    "# 21. Create a program that calculates the sum of the digits of numbers in a list using a list comprehension.\n",
    "\n",
    "\n",
    "def sumof_digits(alldigits):\n",
    "    \"\"\" sum of the digits of numbers in a list using a list comprehension \"\"\"\n",
    "    x=sum([i for i in alldigits])\n",
    "    return x\n",
    "\n",
    "alldigits=[10,20,30,10,10,20,60]\n",
    "print(sumof_digits(alldigits))"
   ]
  },
  {
   "cell_type": "code",
   "execution_count": 18,
   "id": "fdb1d4a1-8cda-406f-b113-78a7d0c90304",
   "metadata": {},
   "outputs": [
    {
     "name": "stdout",
     "output_type": "stream",
     "text": [
      "[23, 29, 31, 37, 41, 43, 47]\n"
     ]
    }
   ],
   "source": [
    "# # 22. Write a program to find the prime factors of a given number using a `for` loop and list comprehension.\n",
    "\n",
    "def type_prime(start_point,end_point):  \n",
    "    \"\"\" prime factors of a given number using a `for` loop and list comprehension \"\"\"\n",
    "\n",
    "    return[x for x in range(start_point,end_point) if all(x % y for y in range(2, x))]\n",
    "\n",
    "start_point =20\n",
    "end_point =50\n",
    "print(type_prime(start_point,end_point))"
   ]
  },
  {
   "cell_type": "code",
   "execution_count": 19,
   "id": "6d4420c5-876a-438f-a21d-b4c098e89781",
   "metadata": {},
   "outputs": [
    {
     "name": "stdout",
     "output_type": "stream",
     "text": [
      "[4, 8, 'hii']\n"
     ]
    }
   ],
   "source": [
    "# # 23. Develop a program that extracts unique elements from a list and stores them in a new list using a list comprehension.\n",
    "\n",
    "def  unique_list(list23,unique_element):\n",
    "    \"\"\" extracts unique elements from a list and stores them in a new list using a list comprehension\"\"\"\n",
    "    new_list=[]\n",
    "    [new_list.append(i) for i in list23  if i in unique_element]\n",
    "    return new_list\n",
    "\n",
    "list23=[1,2,3,4,1,2,8,3,1,2,\"hii\",3]\n",
    "unique_element=[4,8,\"hii\"]\n",
    "print(unique_list(list23,unique_element))"
   ]
  },
  {
   "cell_type": "code",
   "execution_count": 20,
   "id": "241ccb2c-9cc7-436a-a7f2-6e2830defc8b",
   "metadata": {},
   "outputs": [
    {
     "name": "stdout",
     "output_type": "stream",
     "text": [
      "[0, 1, 2, 3, 4, 5, 6, 7, 8, 9, 11, 22, 33, 44, 55, 66, 77, 88, 99, 101, 111, 121, 131, 141]\n"
     ]
    }
   ],
   "source": [
    "# # 24. Create a program that generates a list of all palindromic numbers up to a specified limit using a list comprehension.\n",
    "\n",
    "def palindromic (limit):\n",
    "    \"\"\" generates a list of all palindromic numbers up to a specified limit using a list comprehension \"\"\"\n",
    "    return ([i for i in range (limit+1) if str(i)==str(i)[::-1]])\n",
    "limit=150\n",
    "print(palindromic(limit))\n",
    "    "
   ]
  },
  {
   "cell_type": "code",
   "execution_count": 21,
   "id": "6d04e03c-60c1-48d0-993a-469e3bc9f886",
   "metadata": {},
   "outputs": [
    {
     "name": "stdout",
     "output_type": "stream",
     "text": [
      "[1, 2, 3, 4, 5, 6, 7, 8, 9]\n"
     ]
    }
   ],
   "source": [
    "# # 25. Write a program to flatten a nested list using list comprehension.\n",
    "\n",
    "def flatten_list(list25):\n",
    "    \"\"\" flatten a nested list using list comprehension\"\"\"\n",
    "    return([j for i in list25 for j in i])\n",
    "list25=[[1,2,3],[4,5,6],[7,8,9]]\n",
    "print(flatten_list(list25))"
   ]
  },
  {
   "cell_type": "code",
   "execution_count": 22,
   "id": "a560fb59-84a5-4462-8e44-e5806726dd42",
   "metadata": {},
   "outputs": [
    {
     "name": "stdout",
     "output_type": "stream",
     "text": [
      "sum of even numbers => 30 sum of odd numbers => 25 \n"
     ]
    }
   ],
   "source": [
    "# 26. Develop a program that computes the sum of even and odd numbers in a list separately using list comprehension.\n",
    "\n",
    "def even_odd (list26):\n",
    "    \"\"\" sum of even and odd numbers in a list separately using list comprehension\"\"\"\n",
    "    sum_even=sum([num for num  in list26 if num%2==0])\n",
    "    sum_odd=sum([num for num  in list26 if num%2!=0])\n",
    "    return f\"sum of even numbers => {sum_even} sum of odd numbers => {sum_odd} \"\n",
    "\n",
    "list26=[1,2,3,4,5,6,7,8,9,10]\n",
    "print(even_odd(list26))\n",
    " \n",
    "  "
   ]
  },
  {
   "cell_type": "code",
   "execution_count": 26,
   "id": "08be0576-0edb-4201-bc0a-9c7519ccf429",
   "metadata": {},
   "outputs": [
    {
     "name": "stdout",
     "output_type": "stream",
     "text": [
      "['1 cube is =>,1', '3 cube is =>,27', '5 cube is =>,125', '7 cube is =>,343', '9 cube is =>,729']\n"
     ]
    }
   ],
   "source": [
    "# 27. Create a program that generates a list of squares of odd numbers between 1 and 10 using list comprehension.\n",
    "\n",
    "def odd_cubes(range_limit):\n",
    "    \"\"\" list of squares of odd numbers between 1 and 10 using list comprehension\"\"\"\n",
    "    return[ (f\"{i} cube is =>,{i**3}\") for i in range(range_limit+1) if i%2!=0]\n",
    "range_limit=10\n",
    "print(odd_cubes(range_limit))"
   ]
  },
  {
   "cell_type": "code",
   "execution_count": 27,
   "id": "a3051841-0d19-4d85-806d-3cbbe0f9a4b4",
   "metadata": {},
   "outputs": [
    {
     "name": "stdout",
     "output_type": "stream",
     "text": [
      "[{'a': 1, 'b': 2, 'c': 3}]\n"
     ]
    }
   ],
   "source": [
    "# # 28. Write a program that combines two lists into a dictionary using list comprehension.\n",
    "\n",
    "def dictionary(keys,values):\n",
    "    \"\"\" combines two lists into a dictionary using list comprehension \"\"\"\n",
    "    return([{keys[i] : values[i] for i in range(len(keys))}])\n",
    "\n",
    "keys=[\"a\",\"b\",\"c\"]\n",
    "values=[1,2,3]\n",
    "print(dictionary(keys,values))"
   ]
  },
  {
   "cell_type": "code",
   "execution_count": 28,
   "id": "78dd5875-2fbf-4ab2-b0be-3046397e11d0",
   "metadata": {},
   "outputs": [
    {
     "name": "stdin",
     "output_type": "stream",
     "text": [
      "enter the string => impossible\n"
     ]
    },
    {
     "name": "stdout",
     "output_type": "stream",
     "text": [
      "['i', 'o', 'i', 'e']\n"
     ]
    }
   ],
   "source": [
    "# 29. Develop a program that extracts the vowels from a string and stores them in a list using list comprehension.\n",
    "\n",
    "\n",
    "def extract_vowels(string29):\n",
    "    \"\"\"extracts the vowels from a string and stores them in a list using list comprehension\"\"\"\n",
    "    vowel=\"aeiouAEIOU\"\n",
    "    return ([ i for i in string29 if i in vowel])\n",
    "\n",
    "string29=input(\"enter the string =>\")\n",
    "print(extract_vowels(string29))"
   ]
  },
  {
   "cell_type": "code",
   "execution_count": 29,
   "id": "285753c2-497f-4b2c-82f2-0c795a4ea626",
   "metadata": {},
   "outputs": [
    {
     "name": "stdout",
     "output_type": "stream",
     "text": [
      "['123', '456', '825', '88']\n"
     ]
    }
   ],
   "source": [
    "# Ques 30\n",
    "\n",
    "def  remove_nonnumeric(string30):\n",
    "    \"\"\"Create a program that removes all non-numeric characters from a list of strings using list comprehension.\"\"\"\n",
    "\n",
    "    return[''.join([char for char in string if char.isdigit()])for string in string30]\n",
    "\n",
    "input_string=[\"abc123\",\"def456\",\"825gh\",\"hf88i\"]\n",
    "print(remove_nonnumeric(input_string))"
   ]
  },
  {
   "cell_type": "code",
   "execution_count": null,
   "id": "183d008d-af49-480f-9e96-749552079d86",
   "metadata": {},
   "outputs": [],
   "source": []
  },
  {
   "cell_type": "markdown",
   "id": "d348c9b1-33c6-432c-8e7b-45e9ea2a61f7",
   "metadata": {},
   "source": [
    "challenge level \n",
    " "
   ]
  },
  {
   "cell_type": "code",
   "execution_count": 30,
   "id": "1ede7353-dff6-4844-a25e-ecadb17923e5",
   "metadata": {},
   "outputs": [
    {
     "name": "stdout",
     "output_type": "stream",
     "text": [
      "[2, 3, 5, 7, 11, 13, 17, 19, 23, 29]\n"
     ]
    }
   ],
   "source": [
    "# 31. Write a program to generate a list of prime numbers using the Sieve of Eratosthenes algorithm and list comprehension.\n",
    "\n",
    "\n",
    "def sieve_of_eratosthenes(n):\n",
    "    \"\"\"list of prime numbers using the Sieve of Eratosthenes algorithm and list comprehension\"\"\"\n",
    "    primes = [True] * (n + 1)\n",
    "    primes[0] = primes[1] = False\n",
    "\n",
    "    for start in range(2, int(n**0.5) + 1):\n",
    "        if primes[start]:\n",
    "            for multiple in range(start*start, n + 1, start):\n",
    "                primes[multiple] = False\n",
    "\n",
    "    return [num for num, is_prime in enumerate(primes) if is_prime]\n",
    "\n",
    "n = 30\n",
    "prime_numbers = sieve_of_eratosthenes(n)\n",
    "print(prime_numbers)"
   ]
  },
  {
   "cell_type": "code",
   "execution_count": 31,
   "id": "3e5dc001-fa47-480c-840f-0c7e9be98808",
   "metadata": {},
   "outputs": [
    {
     "name": "stdout",
     "output_type": "stream",
     "text": [
      "[(3, 4, 5), (5, 12, 13), (6, 8, 10), (8, 15, 17), (9, 12, 15)]\n"
     ]
    }
   ],
   "source": [
    "# 32. Create a program that generates a list of all Pythagorean triplets up to a specified limit using list comprehension.\n",
    "\n",
    "def generate_pythagorean_triplets(limit):\n",
    "    \"\"\" list of all Pythagorean triplets up to a specified limit using list comprehension \"\"\"\n",
    "    return [\n",
    "        (a, b, c)\n",
    "        for a in range(1, limit)\n",
    "        for b in range(a, limit)\n",
    "        for c in range(b, limit)\n",
    "        if a**2 + b**2 == c**2\n",
    "    ]\n",
    "limit = 20\n",
    "pythagorean_triplets = generate_pythagorean_triplets(limit)\n",
    "print(pythagorean_triplets)"
   ]
  },
  {
   "cell_type": "code",
   "execution_count": 32,
   "id": "d8e3d524-0e79-432a-b9bb-e6d830293a46",
   "metadata": {},
   "outputs": [
    {
     "name": "stdout",
     "output_type": "stream",
     "text": [
      "[(1, 'a'), (1, 'b'), (1, 'c'), (2, 'a'), (2, 'b'), (2, 'c'), (3, 'a'), (3, 'b'), (3, 'c')]\n"
     ]
    }
   ],
   "source": [
    "# 33. Develop a program that generates a list of all possible combinations of two lists using list comprehension.\n",
    "\n",
    "def possible_combination(list1,list2):\n",
    "    \"\"\" list of all possible combinations of two lists using list comprehension\"\"\"\n",
    "    combinations = [(x, y) for x in list1 for y in list2]\n",
    "    print(combinations)\n",
    "list1 = [1, 2, 3]\n",
    "list2 = ['a', 'b', 'c']\n",
    "possible_combination(list1,list2)"
   ]
  },
  {
   "cell_type": "code",
   "execution_count": 33,
   "id": "c7255322-c8d7-43b2-8f9b-aa7bf8c2a198",
   "metadata": {},
   "outputs": [
    {
     "name": "stdout",
     "output_type": "stream",
     "text": [
      "Mean: 2.5, Median: 2.5, Mode: 1\n"
     ]
    }
   ],
   "source": [
    "# 34. Write a program that calculates the mean, median, and mode of a list of numbers using list comprehension.\n",
    "\n",
    "from statistics import mean, median, mode\n",
    "def mean_median_mode(numbers):\n",
    "    \"\"\" calculates the mean, median, and mode of a list of numbers using list comprehension\"\"\"\n",
    "    mean_value = mean(numbers)\n",
    "    median_value = median(numbers)\n",
    "    mode_value = mode(numbers)\n",
    "    print(f\"Mean: {mean_value}, Median: {median_value}, Mode: {mode_value}\")\n",
    "\n",
    "numbers = [1,2,3,4]\n",
    "mean_median_mode(numbers)"
   ]
  },
  {
   "cell_type": "code",
   "execution_count": 34,
   "id": "98f5edc9-9e4d-4d5d-a30f-e794e4052c84",
   "metadata": {},
   "outputs": [
    {
     "name": "stdout",
     "output_type": "stream",
     "text": [
      "[[1], [1, 1], [1, 2, 1], [1, 3, 3, 1], [1, 4, 6, 4, 1]]\n"
     ]
    }
   ],
   "source": [
    "# 35. Create a program that generates Pascal's triangle up to a specified number of rows using list comprehension.\n",
    "\n",
    "def generate_pascals_triangle(n):\n",
    "    \"\"\" Pascal's triangle up to a specified number of rows using list comprehension\"\"\"\n",
    "\n",
    "    triangle = [[1]]\n",
    "    for i in range(1, n):\n",
    "        row = [1] + [triangle[i-1][j-1] + triangle[i-1][j] for j in range(1, i)] + [1]\n",
    "        triangle.append(row)\n",
    "    print(triangle)\n",
    "n=5\n",
    "triangle = generate_pascals_triangle(n)"
   ]
  },
  {
   "cell_type": "code",
   "execution_count": 35,
   "id": "34d240c7-f9f9-4937-83b3-b26fabf35d52",
   "metadata": {},
   "outputs": [
    {
     "name": "stdout",
     "output_type": "stream",
     "text": [
      "[1, 2, 6, 6, 3]\n"
     ]
    }
   ],
   "source": [
    "# 36. Develop a program that calculates the sum of the digits of a factorial of numbers from 1 to 5 using list comprehension.\n",
    "\n",
    "\n",
    "from math import factorial\n",
    "def sum_factorial():\n",
    "    \"\"\" calculates the sum of the digits of a factorial of numbers from 1 to 5 using list comprehension.\"\"\"\n",
    "    factorial_sums = [sum(int(digit) for digit in str(factorial(i))) for i in range(1, 6)]\n",
    "    print(factorial_sums)\n",
    "sum_factorial()"
   ]
  },
  {
   "cell_type": "code",
   "execution_count": 36,
   "id": "b0b74dfb-fa6c-452d-a425-be034c8b2c15",
   "metadata": {},
   "outputs": [
    {
     "name": "stdout",
     "output_type": "stream",
     "text": [
      "sentense\n"
     ]
    }
   ],
   "source": [
    "# 37. Write a program that finds the longest word in a sentence using list comprehension.\n",
    "\n",
    "sentence=\"longest word in sentense \"\n",
    "def longest_word(sentence):\n",
    "    \"\"\" to finds the longest word in a sentence using list comprehension\"\"\"\n",
    "    words= sentence.split()\n",
    "    longest_sentence_word=[word for word in words if len(word)==max(len(w)for w in words)][0]\n",
    "    return(longest_sentence_word)\n",
    "print(longest_word(sentence))"
   ]
  },
  {
   "cell_type": "code",
   "execution_count": 37,
   "id": "f7084aa7-4f67-4b54-86c4-9bbd053d2945",
   "metadata": {},
   "outputs": [
    {
     "name": "stdout",
     "output_type": "stream",
     "text": [
      "['beautiful', 'accurate']\n"
     ]
    }
   ],
   "source": [
    "# 38. Create a program that filters a list of strings to include only those with more than three vowels using list comprehension.\n",
    "\n",
    "def vowel_morethan_3(list_string):\n",
    "    \"\"\" filters a list of strings to include only those with more than three vowels using list comprehension\"\"\"\n",
    "    vowel_count=lambda s:sum(1 for char in s if char in \"aeiouAEIOU\")\n",
    "    filtered_string=[s for s in list_string if vowel_count(s) >3]\n",
    "    print(filtered_string)\n",
    "list_string=[\"hello\",\"beautiful\",\"playing\",\"accurate\",\"vision\"]\n",
    "vowel_morethan_3(list_string)"
   ]
  },
  {
   "cell_type": "code",
   "execution_count": 38,
   "id": "ce7a2aac-fa64-4362-8be8-79f97cd9b56f",
   "metadata": {},
   "outputs": [
    {
     "name": "stdout",
     "output_type": "stream",
     "text": [
      "13501\n"
     ]
    }
   ],
   "source": [
    "# 39. Develop a program that calculates the sum of the digits of numbers from 1 to 1000 using list comprehension.\n",
    "\n",
    "def sum_of_digits(n):\n",
    "    \"\"\" calculates the sum of the digits of numbers from 1 to 1000 using list comprehension \"\"\"\n",
    "    return sum(int(digit) for digit in str(n))\n",
    "sum_of_digits_list = [sum_of_digits(i) for i in range(1,1001)]\n",
    "total_sum = sum(sum_of_digits_list)\n",
    "\n",
    "print(total_sum)"
   ]
  },
  {
   "cell_type": "code",
   "execution_count": 39,
   "id": "4479cf3b-2a18-4a91-8d81-7bbc47fe4ff0",
   "metadata": {},
   "outputs": [
    {
     "name": "stdout",
     "output_type": "stream",
     "text": [
      "[2, 3, 5, 7, 11, 101, 131, 151, 181, 191, 313, 353, 373, 383, 727, 757, 787, 797, 919, 929]\n"
     ]
    }
   ],
   "source": [
    "# 40. Write a program that generates a list of prime palindromic numbers using list comprehension.\n",
    "\n",
    "def is_prime(n):\n",
    "    \"\"\"  generates a list of prime palindromic numbers using list comprehension \"\"\"\n",
    "\n",
    "    if n <= 1:\n",
    "        return False\n",
    "    if n == 2:\n",
    "        return True\n",
    "    if n % 2 == 0:\n",
    "        return False\n",
    "    for i in range(3, int(n**0.5) + 1, 2):\n",
    "        if n % i == 0:\n",
    "            return False\n",
    "    return True\n",
    "\n",
    "def is_palindrome(n):\n",
    "    return str(n) == str(n)[::-1]\n",
    "\n",
    "prime_palindromes = [n for n in range(1, 1000) if is_prime(n) and is_palindrome(n)]\n",
    "\n",
    "print(prime_palindromes)"
   ]
  }
 ],
 "metadata": {
  "kernelspec": {
   "display_name": "Python 3 (ipykernel)",
   "language": "python",
   "name": "python3"
  },
  "language_info": {
   "codemirror_mode": {
    "name": "ipython",
    "version": 3
   },
   "file_extension": ".py",
   "mimetype": "text/x-python",
   "name": "python",
   "nbconvert_exporter": "python",
   "pygments_lexer": "ipython3",
   "version": "3.10.8"
  }
 },
 "nbformat": 4,
 "nbformat_minor": 5
}
